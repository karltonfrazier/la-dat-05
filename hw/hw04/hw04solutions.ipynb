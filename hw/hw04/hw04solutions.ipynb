{
 "metadata": {
  "name": ""
 },
 "nbformat": 3,
 "nbformat_minor": 0,
 "worksheets": [
  {
   "cells": [
    {
     "cell_type": "code",
     "collapsed": false,
     "input": [
      "'''First, make sure you have the wikipedia module installed. \n",
      "To make sure you have this, open a terminal and type `sudo pip install wikipedia`.'''"
     ],
     "language": "python",
     "metadata": {},
     "outputs": [
      {
       "metadata": {},
       "output_type": "pyout",
       "prompt_number": 1,
       "text": [
        "'First, make sure you have the wikipedia module installed. \\nTo make sure you have this, open a terminal and type `sudo pip install wikipedia`.'"
       ]
      }
     ],
     "prompt_number": 1
    },
    {
     "cell_type": "code",
     "collapsed": false,
     "input": [
      "'''Now that that's done, let's get to the good stuff.\n",
      "\n",
      "Look over the short example of what this module can do here: https://pypi.python.org/pypi/wikipedia/\n",
      "\n",
      "It looks like we can get both the content of every page in Wikipedia, as well as every other page \n",
      "that that page links to. That means there is potential for massive, massive datasets within easy reach.\n",
      "\n",
      "Let's investigate by getting the page for \"New York\" as well as all its links.\n",
      "''' \n",
      "\n",
      "import wikipedia \n",
      "\n",
      "ny = wikipedia.page('New York')\n",
      "print(ny.links)"
     ],
     "language": "python",
     "metadata": {},
     "outputs": [
      {
       "output_type": "stream",
       "stream": "stdout",
       "text": [
        "[u'1790 United States Census', u'1800 United States Census', u'1810 United States Census', u'1820 United States Census', u'1830 United States Census', u'1840 United States Census', u'1850 United States Census', u'1860 United States Census', u'1870 United States Census', u'1880 United States Census', u'1890 United States Census', u'1900 United States Census', u'1910 United States Census', u'1920 United States Census', u'1930 United States Census', u'1932 Winter Olympics', u'1940 United States Census', u'1950 United States Census', u'1960 United States Census', u'1970 United States Census', u'1980 United States Census', u'1980 Winter Olympics', u'1990 United States Census', u'2000 United States Census', u'2010 United States Census', u'2012 Summer Olympics', u'51st state', u'7 World Trade Center', u'Abolitionism', u'Abortion in the United States', u'Adirondack Mountains', u'Adirondack Park', u'Administrative divisions of New York', u'Administrative divisions of the United States', u'Admission to the Union', u'Affirmative action in the United States', u'Affluence in the United States', u'African-American Civil Rights Movement (1865\\u201395)', u'African-American Civil Rights Movement (1896\\u20131954)', u'African-American Civil Rights Movement (1954\\u201368)', u'African American', u'African Burial Ground National Monument', u'African people', u'Agnosticism', u'Agriculture in the United States', u'AirTrain JFK', u'Al Gore', u'Alabama', u'Alaska', u'Albany, New York', u'Albany County, New York', u'Alexander Hamilton', u'Algonquian peoples', u'Allegany County, New York', u'Allegheny Plateau', u'Allegheny River', u'Allentown, Pennsylvania', u'American Civil War', u'American Dream', u'American English', u'American Indian Wars', u'American Revolution', u'American Revolutionary War', u'American Samoa', u'American exceptionalism', u'American football', u'American frontier', u'American imperialism', u'American literature', u'American middle class', u'American nationalism', u'American philosophy', u'Americana', u'Americans', u'Andes', u'Andrew Cuomo', u'Annapolis, Maryland', u'Annapolis Convention (1786)', u'Anti-Americanism', u'Appalachian Mountains', u'Architecture of the United States', u'Arizona', u'Arkansas', u'Articles of Confederation and Perpetual Union', u'Asia', u'Asian American', u'Associated state', u'Association of Religion Data Archives', u'Atheism', u'Atlantic Ocean', u'Atomic nucleus', u'Augusta, Maine', u'Austria', u'Avenue C (Manhattan)', u'Baker Island', u'Baltimore', u'Banking in the United States', u'Barack Obama', u'Barrier island', u'Battery Park', u'Battle of Long Island', u'Battles of Saratoga', u'Bedford\\u2013Stuyvesant, Brooklyn', u'Bengali language', u'Beverwijck', u'Bibliography of New York', u'Bibliography of the United States', u'Binghamton, New York', u'Binghamton University', u'Binghamton metropolitan area', u'Biotechnology', u'Bisexual', u'Black (U.S. Census)', u'Bolivian American', u'Borough (New York City)', u'Boston', u'Bridgeport, Connecticut', u'British Army', u'Brooklyn', u'Brooklyn Nets', u'Broome County, New York', u'Brunswick, New York', u'Buddhism', u'Buffalo, New York', u'Buffalo Bills', u'Buffalo Metro Rail', u'Buffalo Sabres', u'Buffalo\\u2013Niagara Falls metropolitan area', u'Burlington, Vermont', u'Cabinet of the United States', u'California', u'Cambridge, Massachusetts', u'Canada', u'Canada\\u2013United States border', u'Canadian provinces', u'Cantonese', u'Capital District', u'Capital city', u'Capital punishment in the United States', u'Capture of Fort Ticonderoga', u'Castle Clinton', u'Catholic Church', u'Catholic Church in the United States', u'Catskill Mountains', u'Catskill Park', u'Cattaraugus County, New York', u'Cayuga County, New York', u'Central Intelligence Agency', u'Central New York', u'Central New York Region', u'Central business district', u'Champlain Valley', u'Charleston, West Virginia', u'Chautauqua County, New York', u'Chemical substance', u'Chemung County, New York', u'Chenango County, New York', u'Chesapeake, Virginia', u'Chicago', u'Chinatown, Brooklyn', u'Chinatown, Flushing', u'Chinatown, Manhattan', u'Chinese emigration', u'Chinese language', u'Chuck Schumer', u'Cinema of the United States', u'City', u'City University of New York', u'Civil liberties in the United States', u'Climate of New York', u'Clinton County, New York', u'Coastal management', u'Coat of arms of New York', u'Code of Federal Regulations', u'Codification (law)', u'Cold War', u'Colombian American', u'Colonial American military history', u'Colonial history of the United States', u'Colony of Rhode Island and Providence Plantations', u'Colony of Virginia', u'Colorado', u'Colorado River', u'Columbia County, New York', u'Columbia River', u'Columbia University', u'Communications in the United States', u'Concord, New Hampshire', u'Confederation', u'Connecticut', u'Connecticut Colony', u'Consolidated Laws of New York', u'Constitution of New York, 1777', u'Constitutional convention (political meeting)', u'Continental Army', u'Continental Congress', u'Coordinated Universal Time', u'Cornell University', u'Corning (city), New York', u'Cortland County, New York', u'Cosmopolitanism', u'Counties of New York', u'County (United States)', u'Crime in the United States', u'Criticism of the United States government', u'Cuisine of the United States', u'Culture of the United States', u'DMOZ', u'Dairy farming', u'Dance in the United States', u'DeWitt Clinton', u'Declaration of Rights and Grievances', u'Defense Intelligence Agency', u'Delaware', u'Delaware Colony', u'Delaware County, New York', u'Delaware River', u'Democracy', u'Democratic Party (United States)', u'Demographic history of the United States', u'Demographics of Asian Americans', u'Demographics of New York', u'Demographics of the United States', u'Demonym', u'Dialect', u'Digital media', u'Digital object identifier', u'Director of National Intelligence', u'Discrimination in the United States', u'Displaced persons', u'District of Columbia', u'Dominican American', u'Dover, Delaware', u'Downstate New York', u'Duke of York', u'Dutch East India Company', u'Dutch people', u'Dutchess County, New York', u'East Coast of the United States', u'East River', u'East Rutherford, New Jersey', u'Eastern Time Zone', u'Eastern United States', u'Economic history of the United States', u'Economic issues in the United States', u'Economy of New York', u'Economy of the United States', u'Ecuadorian American', u'Education in New York', u'Education in the United States', u'Educational attainment in the United States', u'Effects of Hurricane Sandy in New York', u'Elections in New York', u'Elections in the United States', u'Electoral College (United States)', u'Elizabeth, New Jersey', u'Ellis Island', u'Elmira, New York', u'Empire State', u'Energy in the United States', u'Energy policy of the United States', u'English American', u'English language', u'Entrepreneur', u'Entrepreneurship ecosystem', u'Environmental movement in the United States', u'Erie, Pennsylvania', u'Erie Canal', u'Erie County, New York', u'Essex County, New York', u'Ethnic diversity', u'Evacuation Day (New York)', u'Everglades National Park', u'Executive Office of the President of the United States', u'Executive branch', u'Extreme points of the United States', u'Fahrenheit', u'Family structure in the United States', u'Fashion in the United States', u'Federal Bureau of Investigation', u'Federal Reporter', u'Federal Reserve System', u'Federal district', u'Federal drug policy of the United States', u'Federal government of the United States', u'Federal judiciary of the United States', u'Federal law enforcement in the United States', u'Federal preemption', u'Federalism in the United States', u'Federalist Era', u'Federation', u'Felony', u'Financial center', u'Financial position of the United States', u'Finger Lakes', u'Finland', u'Fire Island', u'Fire Island National Seashore', u'Flag of New York', u'Flag of the United States', u'Florida', u'Folklore of the United States', u'Fordham University', u'Foreign policy of the United States', u'Foreign relations of the United States', u'Foreign trade of the United States', u'Fort Amsterdam', u'Fort Nassau (North River)', u'Fort Niagara', u'Fort Orange (New Netherland)', u'Fortification of Dorchester Heights', u'France', u'Franklin County, New York', u'Franklin D. Roosevelt', u'French-based creole languages', u'French Canadian', u'French language', u'French language in the United States', u'Fr\\xe9d\\xe9ric Auguste Bartholdi', u'Fulton County, New York', u'Game design', u'Gasoline', u'Gateway National Recreation Area', u'Gay', u'General American English', u'General Grant National Memorial', u'Genesee County, New York', u'Geographic coordinate system', u'Geography of New York', u'Geography of New York City', u'Geography of the United States', u'George Clinton (vice president)', u'George Perkins Marsh', u'George W. Bush', u'George Washington', u'Georgia (U.S. state)', u'German-American', u'German American', u'German language in the United States', u'Gilded Age', u'Glacier National Park (U.S.)', u'Glens Falls, New York', u'Glens Falls metropolitan area', u'Global city', u'Google Books', u'Government of New York', u'Government of the United States', u'Governor of New York', u'Grand Canyon National Park', u'Great Appalachian Valley', u'Great Depression', u'Great Lakes', u'Great Plains', u'Great South Bay', u'Greene County, New York', u'Greenhouse gas', u'Guam', u'Gun politics in the United States', u'HMS Jersey (1736)', u'Hamilton County, New York', u'Hamilton Grange National Memorial', u'Hamlet (place)', u'Hampton, Virginia', u'Harlem', u'Harrisburg, Pennsylvania', u'Harrison, New Jersey', u'Hartford, Connecticut', u'HathiTrust', u'Hawaii', u'Health care in the United States', u'Health care reform in the United States', u'Health insurance in the United States', u'Healthcare in New York', u'Hempstead, New York', u'Henry Hudson', u'Herkimer County, New York', u'High tech', u'Hispanic and Latino Americans', u'History of New York', u'History of United States debt ceiling', u'History of the United States', u'History of the United States (1865\\u20131918)', u'History of the United States (1991\\u2013present)', u'Hither Hills State Park', u'Home of Franklin D. Roosevelt National Historic Site', u'Home rule', u'Homelessness in the United States', u'Homeownership in the United States', u'Household income in the United States', u'Howland Island', u'Hudson Highlands', u'Hudson River', u'Hudson Valley', u'Hudson Valley English', u'Human rights in the United States', u'Humid continental climate', u'Humid subtropical climate', u'Hurricane Sandy', u'Hyde Park, New York', u'ISO 3166-2:US', u'Ice hockey', u'Idaho', u'Illegal immigration to the United States', u'Illinois', u'Immigration', u'Immigration Act of 1924', u'Immigration to the United States', u'Incarceration in the United States', u'Income inequality in the United States', u'Independent agencies of the United States government', u'Index of New York-related articles', u'Index of United States-related articles', u'Index of the United States-related articles', u'Indian American', u'Indian reservation', u'Indiana', u'Indigenous peoples', u'Indigenous peoples of the Americas', u'Information technology', u'Infrastructure of the United States', u'Inland Northern American English', u'Innsbruck', u'Insular area', u'Insurance in the United States', u'Integrated circuit', u'Intellectual capital', u'Intelligence operations in the American Revolutionary War', u'Intermodal passenger transport', u'International Standard Book Number', u'International rankings of the United States', u'Internet Archive', u'Interstate 87', u'Investment banking', u'Iowa', u'Iraq War', u'Irish-American', u'Irish American', u'Iroquoian languages', u'Iroquois', u'Irreligion in the United States', u'Islam', u'Israel', u'Italian American', u'Italian language', u'Italian language in the United States', u'Ithaca, New York', u'Jamaican American', u'James II of England', u'Janette Sadik-Khan', u'Jarvis Island', u'Jefferson County, New York', u'Jersey City, New Jersey', u'Jews', u'John Burgoyne', u'John F. Kennedy International Airport', u'John Jay', u'John Kerry', u'Johnston Atoll', u'Joseph Brant', u'Judaism', u'Judicial branch', u'Judiciary of New York', u'Kansas', u'Kathy Hochul', u'Kentucky', u'Kingdom of Great Britain', u'Kingman Reef', u'Kingston, New York', u'Kirsten Gillibrand', u'Korean American', u'Korean War', u'Korean language', u'Koreatown, Long Island', u'K\\xf6ppen climate classification', u'LGBT rights in the United States', u'Labor unions in the United States', u'Lake-effect snow', u'Lake Champlain', u'Lake Champlain Valley', u'Lake Erie', u'Lake George (New York)', u'Lake Ontario', u'Lake Placid, New York', u'Lake Tear of the Clouds', u'Land reclamation', u'Languages of the United States', u'Latin', u'Law of New York', u'Law of the United States', u'Legislative branch', u'Legislature', u'Lenape', u'Lesbian', u'Lewis County, New York', u'Lieutenant Governor of New York', u'List of American Indian Reservations in New York', u'List of Indian reservations in the United States', u'List of Metropolitan Statistical Areas', u'List of New York state parks', u'List of New York state symbols']\n"
       ]
      }
     ],
     "prompt_number": 2
    },
    {
     "cell_type": "code",
     "collapsed": false,
     "input": [
      "'''\n",
      "That's a lot of links! You know what would be cool? Figuring out which articles are similar to others. \n",
      "\n",
      "Your task is to: \n",
      "(1) build a dataset of (at least) 1000 articles; \n",
      "(2) do an LSI on that corpus;\n",
      "(3) cluster the documents in latent-factor space using K-means; \n",
      "(4) retrieve similar documents given an input document.\n",
      "\n",
      "NOTE: IT WILL TAKE SOME TIME TO DOWNLOAD THE DATA FROM WIKIPEDIA. TUNING THE SIZE OF THE DATASET YOU WANT WILL \n",
      "BE A TRADEOFF BETWEEN HOW LONG IT TAKES TO GENERATE THE DATASET, AND HOW RICH AND MEANINGFUL YOUR MODEL IS. \n",
      "If you have the time to just let the program run, it is cool to have a dataset of 10,000 articles. Or 100,000. \n",
      "And if it were realistic, 1,000,000 would be really, really cool. \n",
      "'''"
     ],
     "language": "python",
     "metadata": {},
     "outputs": [
      {
       "metadata": {},
       "output_type": "pyout",
       "prompt_number": 3,
       "text": [
        "\"\\nThat's a lot of links! You know what would be cool? Figuring out which articles are similar to others. \\n\\nYour task is to: \\n(1) build a dataset of (at least) 1000 articles; \\n(2) do an LSI on that corpus;\\n(3) cluster the documents in latent-factor space using K-means; \\n(4) retrieve similar documents given an input document.\\n\\nNOTE: IT WILL TAKE SOME TIME TO DOWNLOAD THE DATA FROM WIKIPEDIA. TUNING THE SIZE OF THE DATASET YOU WANT WILL \\nBE A TRADEOFF BETWEEN HOW LONG IT TAKES TO GENERATE THE DATASET, AND HOW RICH AND MEANINGFUL YOUR MODEL IS. \\nIf you have the time to just let the program run, it is cool to have a dataset of 10,000 articles. Or 100,000. \\nAnd if it were realistic, 1,000,000 would be really, really cool. \\n\""
       ]
      }
     ],
     "prompt_number": 3
    },
    {
     "cell_type": "code",
     "collapsed": false,
     "input": [
      "'''First let's get those articles. We will do this by taking a random walk around Wikipedia. \n",
      "As we've just seen, any one article can link to hundreds of articles. But, we would be wise to travel \n",
      "a few links down that chain and drift into topics very different from the original, so that our dataset will be diverse.\n",
      "\n",
      "We will take a random sample of at most 10 links from any given page. \n",
      "\n",
      "We will start our walk with the seed 'Skrillex'. Why? To support local artists.'''\n",
      "\n",
      "import random\n",
      "\n",
      "NUM_LINKS = 10\n",
      "MAX_DOCUMENTS = 1000  ### !IMPORTANT!: MAKING THIS LARGER/SMALLER WILL MAKE YOUR RETRIEVAL TIME LONGER/SHORTER\n",
      "SEED = 'Skrillex'\n",
      "\n",
      "p = wikipedia.page(SEED)\n",
      "pages = {}\n",
      "\n",
      "# choose a random subsample of the links \n",
      "subsample = random.sample(p.links, NUM_LINKS)\n",
      "\n",
      "# I have defined a recursive function to iterate over the graph of links. Read this and understand how it works. \n",
      "def retrieve(list_of_links):\n",
      "    # print the number every 10th document, just to monitor status\n",
      "    if not (len(pages) % 10): \n",
      "        print(len(pages))  \n",
      "    if len(pages) >= MAX_DOCUMENTS: \n",
      "        return pages\n",
      "    for link in list_of_links: \n",
      "        try: \n",
      "            p = wikipedia.page(link)\n",
      "            pages[link] = p.content\n",
      "            subsample = random.sample(p.links, min(len(p.links), NUM_LINKS))  # if a page has less than NUM_LINKS links, then asking for a sample of size MIN_LINKS would throw an error, so we use this min trick\n",
      "            return retrieve(subsample)\n",
      "        except: \n",
      "            continue\n",
      "        \n",
      "pages = retrieve(subsample)\n",
      "print(pages)"
     ],
     "language": "python",
     "metadata": {},
     "outputs": [
      {
       "output_type": "stream",
       "stream": "stdout",
       "text": [
        "0\n",
        "10"
       ]
      },
      {
       "output_type": "stream",
       "stream": "stdout",
       "text": [
        "\n",
        "20"
       ]
      },
      {
       "output_type": "stream",
       "stream": "stdout",
       "text": [
        "\n",
        "30"
       ]
      },
      {
       "output_type": "stream",
       "stream": "stdout",
       "text": [
        "\n",
        "40"
       ]
      }
     ],
     "prompt_number": "*"
    },
    {
     "cell_type": "code",
     "collapsed": false,
     "input": [
      "'''Now let's look at the names of the pages we got.'''\n",
      "links, raw_corpus = zip(*pages.items())\n",
      "print(links)"
     ],
     "language": "python",
     "metadata": {},
     "outputs": []
    },
    {
     "cell_type": "code",
     "collapsed": false,
     "input": [
      "'''Looks like some really interesting stuff. \n",
      "\n",
      "Onward, to the LSI. \n",
      "\n",
      "Let's preprocess and TFIDF-Vectorize our data. We will reuse the preprocess function from the earlier homework, which I have provided here.''' \n",
      "\n",
      "import re \n",
      "import string \n",
      "\n",
      "def preprocess(text): \n",
      "    text = re.sub(r'[%s]' % string.punctuation, '', text.lower())\n",
      "    return text\n",
      "\n",
      "corpus = map(preprocess, raw_corpus)"
     ],
     "language": "python",
     "metadata": {},
     "outputs": [],
     "prompt_number": 31
    },
    {
     "cell_type": "code",
     "collapsed": false,
     "input": [
      "from sklearn.feature_extraction.text import TfidfVectorizer \n",
      "\n",
      "vect = TfidfVectorizer(stop_words='english', analyzer='word', ngram_range=(1,3), lowercase=True, min_df=2)\n",
      "\n",
      "vectorized_corpus = vect.fit_transform(corpus)"
     ],
     "language": "python",
     "metadata": {},
     "outputs": [],
     "prompt_number": 32
    },
    {
     "cell_type": "code",
     "collapsed": false,
     "input": [
      "'''And now the LSI. This will embed the documents in a lower dimensional, conceptual space.'''\n",
      "\n",
      "from sklearn.decomposition import TruncatedSVD \n",
      "\n",
      "N_COMPONENTS = 100  # feel free to change this if you so desire; typical values are between 50 and 400\n",
      "\n",
      "tsvd = TruncatedSVD(n_components=N_COMPONENTS)\n",
      "\n",
      "embedded_corpus = tsvd.fit_transform(vectorized_corpus)"
     ],
     "language": "python",
     "metadata": {},
     "outputs": [],
     "prompt_number": 33
    },
    {
     "cell_type": "code",
     "collapsed": false,
     "input": [
      "'''Now let's use MiniBatchKMeans to cluster these documents (or, I should say, their representations in the \n",
      "lower dimensional space).'''\n",
      "\n",
      "from sklearn.cluster import MiniBatchKMeans \n",
      "\n",
      "N_CLUSTERS = 10  # feel free to experiment with this value, too\n",
      "\n",
      "clstr = MiniBatchKMeans(n_clusters=N_CLUSTERS)\n",
      "clusters = clstr.fit_predict(embedded_corpus)\n",
      "print clusters"
     ],
     "language": "python",
     "metadata": {},
     "outputs": [
      {
       "output_type": "stream",
       "stream": "stdout",
       "text": [
        "[5 5 1 9 3 5 5 2 1 5 7 2 9 8 8 4 5 1 9 5 5 6 5 4 1 9 7 6 5 8 7 5 2 7 9 8 9\n",
        " 6 5 0 2 5 8 8 8 9 5 5 5 6 7 3 5 0 6 6 2 2 3 3 1 2 5 5 9 2 5 5 2 2 3 5 2 8\n",
        " 3 9 8 2 2 3 5 2 2 9 7 5 5 2 8 9 9 2 2 9 1 5 8 9 0 8]\n"
       ]
      }
     ],
     "prompt_number": 34
    },
    {
     "cell_type": "code",
     "collapsed": false,
     "input": [
      "'''Let's see if these clusters are meaningful by looking at all the texts that got clustered together.'''\n",
      "\n",
      "from collections import defaultdict\n",
      "\n",
      "clusters_to_content = defaultdict(list)\n",
      "\n",
      "for subject, page, label in zip(links, corpus, clusters): \n",
      "    clusters_to_content[label].append(subject)\n",
      "\n",
      "for idx in clusters_to_content: \n",
      "    print(idx)\n",
      "    print(clusters_to_content[idx])\n",
      "    print('\\n')"
     ],
     "language": "python",
     "metadata": {},
     "outputs": [
      {
       "output_type": "stream",
       "stream": "stdout",
       "text": [
        "0\n",
        "[u'Pennsylvania Route 981', u'State highway', u'Massachusetts Route 128']\n",
        "\n",
        "\n",
        "1\n",
        "[u'1943 Boston Braves season', u'1943 New York Giants (MLB) season', u'1890 Cincinnati Reds season', u'1894 Cincinnati Reds season', u'Starting pitcher', u'1897 New York Giants season']\n",
        "\n",
        "\n",
        "2\n",
        "[u'Centaur Media', u'Associated British Corporation', u'Century Motor Vehicle Company', u'Bricolage Production Company', u'Bad bank', u'Public limited company', u'Android (operating system)', u'Ultra vires', u'Banking', u'Limited liability partnership', u'Brennan Motor Manufacturing Company', u'Finnish banking crisis of the 1990s', u'Kansallis-Osake-Pankki', u'Bank regulation', u'Free Software Foundation Europe', u'Fon people', u'Banking license', u'Ijaw people']\n",
        "\n",
        "\n",
        "3\n",
        "[u'1987 National Invitation Tournament', u\"1924\\u201325 St. John's Redmen basketball team\", u'1946 National Invitation Tournament', u'NIT all-time team records', u'1976 National Invitation Tournament', u'One Shining Moment', u'1981 NIT']\n",
        "\n",
        "\n",
        "4\n",
        "[u'Airport Transit System', u'African people']\n",
        "\n",
        "\n",
        "5\n",
        "[u'Mauri Honkajuuri', u'University of Scranton', u'Madison Square Garden', u'Creative Review', u'Itv.com', u'ITV Emergency National Service', u'Independent Television Service for Wales and the West', u'Platform screen doors', u'National Register of Historic Places listings in Peekskill, New York', u'Channel Islands of California', u'Xavier University (Cincinnati)', u'Queensboro Hill, Queens', u'Subway Series', u'History of Syracuse, New York', u\"1939 New York World's Fair\", u'Vanity Fair (magazine)', u'Granada Television', u\"3200 series (Chicago 'L')\", u'2003 Atlanta Braves season', u'GNU Scientific Library', u'Chatham University', u'7d (New York City Subway service)', u'American Bridge Company', u'Henri Soul\\xe9', u'National Register of Historic Places listings in Saratoga County, New York', u'St. Albans, Queens']\n",
        "\n",
        "\n",
        "6\n",
        "[u'Canadian', u'Cascade Range', u'South Coast (California)', u'Big Bend Gold Rush', u'Cassiar Gold Rush', u'Columbia Gorge']\n",
        "\n",
        "\n",
        "7\n",
        "[u'Keith Olsen', u'Passionworks', u'Jethro Tull (band)', u'Vogue Paris', u'Crazy on You', u'Golf World']\n",
        "\n",
        "\n",
        "8\n",
        "[u'Tom Paciorek', u'Gaylord Perry', u'1935 Chicago Bears season', u'Fred Hutchinson', u'Bill George (American football player)', u'Fog Bowl (American football)', u'Los Angeles', u'Wrigley Field', u'Jim Marshall (American football)', u'List of Chicago Bears award winners', u'1958 Chicago Bears season', u'East Los Angeles (region)']\n",
        "\n",
        "\n",
        "9\n",
        "[u'IRT Powerhouse', u'BMT Broadway Line', u'Rockaway Park Shuttle', u\"Chicago 'L'\", u'Rockaway Park, Queens', u'Jamaica Estates, Queens', u'Erie Canal', u'Crescent, New York', u'Joralemon Street Tunnel', u'MBTA', u'Edgemere, Queens', u'New York City Department of Transportation', u'Blue Line (CTA)', u'IND Eighth Avenue Line']\n",
        "\n",
        "\n"
       ]
      }
     ],
     "prompt_number": 35
    },
    {
     "cell_type": "code",
     "collapsed": false,
     "input": [
      "'''Experiment with the value of K (i.e., N_CLUSTERS) in K-Means, and see what value gives you the highest silhouette score \n",
      "(just use sklearn's implementation of the silhouette score).'''"
     ],
     "language": "python",
     "metadata": {},
     "outputs": [
      {
       "metadata": {},
       "output_type": "pyout",
       "prompt_number": 36,
       "text": [
        "\"Experiment with the value of K (i.e., N_CLUSTERS) in K-Means, and see what value gives you the highest silhouette score \\n(just use sklearn's implementation of the silhouette score).\""
       ]
      }
     ],
     "prompt_number": 36
    },
    {
     "cell_type": "code",
     "collapsed": false,
     "input": [
      "'''Now let's build a recommendation engine based on this! Or at least a piece of one. We will take in a document and return \n",
      "the top N most similar documents. We will use the cosine similarity as our similarity metric -- it's true that we are in a \n",
      "lower dimensional space, but in the grand scheme of things the dimensionality is quite large (much larger than 2 or 3 dimensions), \n",
      "so the cosine similarity is still the best metric.''' \n",
      "\n",
      "from sklearn.metrics.pairwise import cosine_similarity\n",
      "N_MOST_SIMILAR = 10\n",
      "\n",
      "def get_similar_docs(doc): \n",
      "    doc = preprocess(doc) \n",
      "    vector = vect.transform([doc])\n",
      "    embedding = tsvd.transform(vector)\n",
      "    similarities = cosine_similarity(embedding, embedded_corpus)\n",
      "    similar_indices = similarities.flatten().argsort()[-N_MOST_SIMILAR:-1]  # think: (1) why take the elements at the *end* of the array?; and (2) why exclude the *most* similar document in the corpus?\n",
      "    return [links[idx] for idx in similar_indices]\n",
      "\n",
      "choice = random.choice(xrange(len(links)))\n",
      "print(links[choice])\n",
      "print(get_similar_docs(raw_corpus[choice]))"
     ],
     "language": "python",
     "metadata": {},
     "outputs": [
      {
       "output_type": "stream",
       "stream": "stdout",
       "text": [
        "Erie Canal\n",
        "[u\"1939 New York World's Fair\", u'Queensboro Hill, Queens', u'National Register of Historic Places listings in Peekskill, New York', u'Century Motor Vehicle Company', u'Subway Series', u'BMT Broadway Line', u'New York City Department of Transportation', u'History of Syracuse, New York', u'Crescent, New York']\n"
       ]
      }
     ],
     "prompt_number": 46
    },
    {
     "cell_type": "code",
     "collapsed": false,
     "input": [
      "'''Awesome work! How does it look?'''"
     ],
     "language": "python",
     "metadata": {},
     "outputs": [
      {
       "metadata": {},
       "output_type": "pyout",
       "prompt_number": 48,
       "text": [
        "'Awesome work! How does it look?'"
       ]
      }
     ],
     "prompt_number": 48
    },
    {
     "cell_type": "code",
     "collapsed": false,
     "input": [
      "'''Now, just as a final, interesting point, let's plot our documents. How? Make that LSI project down to 2 dimensions, \n",
      "and then plot the projections. Why? It can be useful to see the distribution of your corpus -- is it seriously skewed? -- but \n",
      "mostly it just looks pretty.''' \n",
      "\n",
      "tsvd2 = TruncatedSVD(n_components=2)\n",
      "\n",
      "embedded_2d_corpus = tsvd2.fit_transform(vectorized_corpus)"
     ],
     "language": "python",
     "metadata": {},
     "outputs": [],
     "prompt_number": 49
    },
    {
     "cell_type": "code",
     "collapsed": false,
     "input": [
      "import matplotlib.pyplot as plt \n",
      "%matplotlib inline  # this will make our plots show up when we build them\n",
      "\n",
      "# matplotlib makes us plot y-values vs x-values, \n",
      "# so we put the second column of embedded_2d_corpus in the y-values \n",
      "# and we put the first column in the x-values\n",
      "plt.plot(embedded_2d_corpus[:,1], embedded_2d_corpus[:,0], 'bo')"
     ],
     "language": "python",
     "metadata": {},
     "outputs": [
      {
       "metadata": {},
       "output_type": "pyout",
       "prompt_number": 51,
       "text": [
        "[<matplotlib.lines.Line2D at 0x10d2c1350>]"
       ]
      },
      {
       "metadata": {},
       "output_type": "display_data",
       "png": "[encoded data removed]",
       "text": [
        "<matplotlib.figure.Figure at 0x10f7ae950>"
       ]
      }
     ],
     "prompt_number": 51
    },
    {
     "cell_type": "code",
     "collapsed": false,
     "input": [
      "'''And that's what a small sample of Wikipedia looks like in two dimensions!'''"
     ],
     "language": "python",
     "metadata": {},
     "outputs": []
    }
   ],
   "metadata": {}
  }
 ]
}