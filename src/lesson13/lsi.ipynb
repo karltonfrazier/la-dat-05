{
 "metadata": {
  "name": "",
  "signature": "sha256:d1a89fc9754efa7c237e7483dc4e815a0411f07d96b2b69558d55cfcbddbbf4e"
 },
 "nbformat": 3,
 "nbformat_minor": 0,
 "worksheets": [
  {
   "cells": [
    {
     "cell_type": "code",
     "collapsed": false,
     "input": [
      "import numpy as np"
     ],
     "language": "python",
     "metadata": {},
     "outputs": [],
     "prompt_number": 1
    },
    {
     "cell_type": "code",
     "collapsed": false,
     "input": [
      "C = [1, -1, 0, 1, 1, 0, -1, 1]\n",
      "C = np.array(C).reshape((4,2))\n",
      "print C"
     ],
     "language": "python",
     "metadata": {},
     "outputs": [
      {
       "output_type": "stream",
       "stream": "stdout",
       "text": [
        "[[ 1 -1]\n",
        " [ 0  1]\n",
        " [ 1  0]\n",
        " [-1  1]]\n"
       ]
      }
     ],
     "prompt_number": 2
    },
    {
     "cell_type": "code",
     "collapsed": false,
     "input": [
      "CCT = np.dot(C, C.T)\n",
      "print CCT"
     ],
     "language": "python",
     "metadata": {},
     "outputs": [
      {
       "output_type": "stream",
       "stream": "stdout",
       "text": [
        "[[ 2 -1  1 -2]\n",
        " [-1  1  0  1]\n",
        " [ 1  0  1 -1]\n",
        " [-2  1 -1  2]]\n"
       ]
      }
     ],
     "prompt_number": 5
    },
    {
     "cell_type": "code",
     "collapsed": false,
     "input": [
      "from sklearn.decomposition import TruncatedSVD\n",
      "\n",
      "tsvd = TruncatedSVD(n_components=100)\n",
      "z = tsvd.fit_transform(C)\n",
      "print z"
     ],
     "language": "python",
     "metadata": {},
     "outputs": [
      {
       "output_type": "stream",
       "stream": "stdout",
       "text": [
        "[[ 1.41421356]\n",
        " [-0.70710678]\n",
        " [ 0.70710678]\n",
        " [-1.41421356]]\n"
       ]
      }
     ],
     "prompt_number": 6
    },
    {
     "cell_type": "code",
     "collapsed": false,
     "input": [
      "from sklearn.decomposition import PCA \n",
      "\n",
      "pca = PCA(n_components=1)\n",
      "z = pca.fit_transform(C)\n",
      "print z"
     ],
     "language": "python",
     "metadata": {},
     "outputs": [
      {
       "output_type": "stream",
       "stream": "stdout",
       "text": [
        "[[-1.41421356]\n",
        " [ 0.70710678]\n",
        " [-0.70710678]\n",
        " [ 1.41421356]]\n"
       ]
      }
     ],
     "prompt_number": 7
    },
    {
     "cell_type": "code",
     "collapsed": false,
     "input": [
      "from sklearn.datasets import fetch_20newsgroups \n",
      "\n",
      "newsgroups_train = fetch_20newsgroups(subset='train')\n",
      "newsgroups_test = fetch_20newsgroups(subset='test')"
     ],
     "language": "python",
     "metadata": {},
     "outputs": [],
     "prompt_number": 8
    },
    {
     "cell_type": "code",
     "collapsed": false,
     "input": [
      "from pprint import pprint\n",
      "\n",
      "pprint(newsgroups_train.target_names)"
     ],
     "language": "python",
     "metadata": {},
     "outputs": [
      {
       "output_type": "stream",
       "stream": "stdout",
       "text": [
        "['alt.atheism',\n",
        " 'comp.graphics',\n",
        " 'comp.os.ms-windows.misc',\n",
        " 'comp.sys.ibm.pc.hardware',\n",
        " 'comp.sys.mac.hardware',\n",
        " 'comp.windows.x',\n",
        " 'misc.forsale',\n",
        " 'rec.autos',\n",
        " 'rec.motorcycles',\n",
        " 'rec.sport.baseball',\n",
        " 'rec.sport.hockey',\n",
        " 'sci.crypt',\n",
        " 'sci.electronics',\n",
        " 'sci.med',\n",
        " 'sci.space',\n",
        " 'soc.religion.christian',\n",
        " 'talk.politics.guns',\n",
        " 'talk.politics.mideast',\n",
        " 'talk.politics.misc',\n",
        " 'talk.religion.misc']\n"
       ]
      }
     ],
     "prompt_number": 12
    },
    {
     "cell_type": "code",
     "collapsed": false,
     "input": [
      "from sklearn.feature_extraction.text import TfidfVectorizer \n",
      "\n",
      "vect = TfidfVectorizer() \n",
      "\n",
      "vectors_train = vect.fit_transform(newsgroups_train.data)"
     ],
     "language": "python",
     "metadata": {},
     "outputs": [],
     "prompt_number": 18
    },
    {
     "cell_type": "code",
     "collapsed": false,
     "input": [
      "from sklearn.decomposition import TruncatedSVD\n",
      "\n",
      "tsvd = TruncatedSVD(n_components=100)\n",
      "\n",
      "dimreduced = tsvd.fit_transform(vectors_train)"
     ],
     "language": "python",
     "metadata": {},
     "outputs": [],
     "prompt_number": 21
    },
    {
     "cell_type": "code",
     "collapsed": false,
     "input": [
      "dimreduced"
     ],
     "language": "python",
     "metadata": {},
     "outputs": [
      {
       "metadata": {},
       "output_type": "pyout",
       "prompt_number": 22,
       "text": [
        "array([[ 0.24972705,  0.0694322 ,  0.01310224, ..., -0.04482355,\n",
        "        -0.04179436, -0.00709211],\n",
        "       [ 0.1399918 ,  0.07671205,  0.03976108, ...,  0.02732432,\n",
        "         0.01865261,  0.01008802],\n",
        "       [ 0.37184255,  0.04142853,  0.06709104, ..., -0.01136345,\n",
        "         0.04311266, -0.01911225],\n",
        "       ..., \n",
        "       [ 0.18476811,  0.00611292,  0.08039132, ...,  0.02746171,\n",
        "        -0.00650326,  0.01422055],\n",
        "       [ 0.18795807,  0.06606401, -0.04157   , ...,  0.01662703,\n",
        "         0.00332623,  0.0071596 ],\n",
        "       [ 0.08231697,  0.09080711, -0.0037265 , ...,  0.00322672,\n",
        "        -0.00306587,  0.00839089]])"
       ]
      }
     ],
     "prompt_number": 22
    },
    {
     "cell_type": "code",
     "collapsed": false,
     "input": [
      "from sklearn.metrics.pairwise import cosine_similarity \n",
      "\n",
      "sims = cosine_similarity(dimreduced, dimreduced)\n",
      "\n",
      "sims"
     ],
     "language": "python",
     "metadata": {},
     "outputs": [
      {
       "metadata": {},
       "output_type": "pyout",
       "prompt_number": 26,
       "text": [
        "array([[ 1.        ,  0.19633468,  0.50016527, ...,  0.33371754,\n",
        "         0.29553932,  0.29204295],\n",
        "       [ 0.19633468,  1.        ,  0.36760192, ...,  0.43973045,\n",
        "         0.6012756 ,  0.20520257],\n",
        "       [ 0.50016527,  0.36760192,  1.        , ...,  0.70927355,\n",
        "         0.48605133,  0.25578876],\n",
        "       ..., \n",
        "       [ 0.33371754,  0.43973045,  0.70927355, ...,  1.        ,\n",
        "         0.33780415,  0.12888715],\n",
        "       [ 0.29553932,  0.6012756 ,  0.48605133, ...,  0.33780415,\n",
        "         1.        ,  0.21105288],\n",
        "       [ 0.29204295,  0.20520257,  0.25578876, ...,  0.12888715,\n",
        "         0.21105288,  1.        ]])"
       ]
      }
     ],
     "prompt_number": 26
    },
    {
     "cell_type": "code",
     "collapsed": false,
     "input": [
      "sims.argsort()[:,:5]"
     ],
     "language": "python",
     "metadata": {},
     "outputs": [
      {
       "metadata": {},
       "output_type": "pyout",
       "prompt_number": 48,
       "text": [
        "array([[ 1836, 10947,   364,  7210,  5339],\n",
        "       [ 7898,  7641,  3284,   337,  3488],\n",
        "       [ 4352,  9266,  4772,  9080,  8665],\n",
        "       ..., \n",
        "       [ 9166,   337,  6476,  4352,  7426],\n",
        "       [ 7641,  4829,  5792,  9765,  7115],\n",
        "       [  916,  3389,  3895,  1435,  6675]])"
       ]
      }
     ],
     "prompt_number": 48
    },
    {
     "cell_type": "code",
     "collapsed": false,
     "input": [
      "print sims[0,7993]\n",
      "print sims[0,5553]\n",
      "print sims[0,958]\n",
      "\n",
      "print sims[0,1836]"
     ],
     "language": "python",
     "metadata": {},
     "outputs": [
      {
       "output_type": "stream",
       "stream": "stdout",
       "text": [
        "0.750418547056\n",
        "0.753386300188\n",
        "0.95241899953\n",
        "-0.0881957167761\n"
       ]
      }
     ],
     "prompt_number": 49
    },
    {
     "cell_type": "code",
     "collapsed": false,
     "input": [
      "pprint(newsgroups_train.data[0])"
     ],
     "language": "python",
     "metadata": {},
     "outputs": [
      {
       "output_type": "stream",
       "stream": "stdout",
       "text": [
        "u\"From: lerxst@wam.umd.edu (where's my thing)\\nSubject: WHAT car is this!?\\nNntp-Posting-Host: rac3.wam.umd.edu\\nOrganization: University of Maryland, College Park\\nLines: 15\\n\\n I was wondering if anyone out there could enlighten me on this car I saw\\nthe other day. It was a 2-door sports car, looked to be from the late 60s/\\nearly 70s. It was called a Bricklin. The doors were really small. In addition,\\nthe front bumper was separate from the rest of the body. This is \\nall I know. If anyone can tellme a model name, engine specs, years\\nof production, where this car is made, history, or whatever info you\\nhave on this funky looking car, please e-mail.\\n\\nThanks,\\n- IL\\n   ---- brought to you by your neighborhood Lerxst ----\\n\\n\\n\\n\\n\"\n"
       ]
      }
     ],
     "prompt_number": 38
    },
    {
     "cell_type": "code",
     "collapsed": false,
     "input": [
      "pprint(newsgroups_train.data[1836])"
     ],
     "language": "python",
     "metadata": {},
     "outputs": [
      {
       "output_type": "stream",
       "stream": "stdout",
       "text": [
        "u\"From: gene@jackatak.raider.net (Gene Wright)\\nSubject: sound recording on mac portable answer (or lead)\\nOrganization: Jack's Amazing CockRoach Capitalist Ventures\\nLines: 7\\n\\nWhatever equipment will work on a mac plus or a mac se will work fine on \\na mac portable. It doesn't have a sound input, but there is equipment \\nthat works fine with those models mentioned in macuser/macworld.\\n\\n--\\n     gene@jackatak.raider.net (Gene Wright)\\n------------jackatak.raider.net   (615) 377-5980 ------------\\n\"\n"
       ]
      }
     ],
     "prompt_number": 50
    },
    {
     "cell_type": "code",
     "collapsed": false,
     "input": [
      "print cosine_similarity(vectors_train[0], vectors_train[7993])\n",
      "print cosine_similarity(vectors_train[0], vectors_train[5553])\n",
      "print cosine_similarity(vectors_train[0], vectors_train[958])\n",
      "\n",
      "print cosine_similarity(vectors_train[0], vectors_train[1836])"
     ],
     "language": "python",
     "metadata": {},
     "outputs": [
      {
       "output_type": "stream",
       "stream": "stdout",
       "text": [
        "[[ 0.1330453]]\n",
        "[[ 0.20724321]]\n",
        "[[ 0.54967949]]\n",
        "[[ 0.01865127]]\n"
       ]
      }
     ],
     "prompt_number": 51
    },
    {
     "cell_type": "code",
     "collapsed": false,
     "input": [
      "from sklearn.cluster import MiniBatchKMeans \n",
      "\n",
      "clstr = MiniBatchKMeans(n_clusters=20)\n",
      "\n",
      "labeled = clstr.fit_predict(dimreduced)"
     ],
     "language": "python",
     "metadata": {},
     "outputs": [],
     "prompt_number": 59
    },
    {
     "cell_type": "code",
     "collapsed": false,
     "input": [
      "print labeled[:10]"
     ],
     "language": "python",
     "metadata": {},
     "outputs": [
      {
       "output_type": "stream",
       "stream": "stdout",
       "text": [
        "[ 8 19 18 11 13 18 11  7 11  8]\n"
       ]
      }
     ],
     "prompt_number": 60
    },
    {
     "cell_type": "code",
     "collapsed": false,
     "input": [],
     "language": "python",
     "metadata": {},
     "outputs": []
    }
   ],
   "metadata": {}
  }
 ]
}