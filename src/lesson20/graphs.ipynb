{
 "metadata": {
  "name": ""
 },
 "nbformat": 3,
 "nbformat_minor": 0,
 "worksheets": [
  {
   "cells": [
    {
     "cell_type": "code",
     "collapsed": false,
     "input": [
      "discovered = set()\n",
      "def DFS(G, v): \n",
      "    '''\n",
      "    param G : dict of lists of tuples : adjacency list representation of graph G\n",
      "        keys : vertices \n",
      "        values : lists of adjacent edges, where edges are represented as tuples (vertex, edge_weight)  \n",
      "    param v : int : root vertex \n",
      "    '''\n",
      "    global discovered\n",
      "    discovered.add(v)\n",
      "    for (w, edge_weight) in G[v]: \n",
      "        if w not in discovered: \n",
      "            DFS(G, w)"
     ],
     "language": "python",
     "metadata": {},
     "outputs": [],
     "prompt_number": 1
    },
    {
     "cell_type": "code",
     "collapsed": false,
     "input": [],
     "language": "python",
     "metadata": {},
     "outputs": []
    }
   ],
   "metadata": {}
  }
 ]
}